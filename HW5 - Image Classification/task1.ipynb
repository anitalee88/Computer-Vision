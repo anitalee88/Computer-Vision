{
 "cells": [
  {
   "cell_type": "code",
   "execution_count": 1,
   "metadata": {},
   "outputs": [],
   "source": [
    "import os\n",
    "import cv2\n",
    "import numpy as np\n",
    "from glob import glob\n",
    "from scipy.spatial.distance import cdist"
   ]
  },
  {
   "cell_type": "code",
   "execution_count": 2,
   "metadata": {},
   "outputs": [],
   "source": [
    "train_path = os.path.join('hw5_data','train')\n",
    "test_path = os.path.join('hw5_data','test')"
   ]
  },
  {
   "cell_type": "code",
   "execution_count": 3,
   "metadata": {},
   "outputs": [],
   "source": [
    "def load_data(path):\n",
    "    class_label = os.listdir(path)\n",
    "    result = []\n",
    "    for c in class_label:\n",
    "        class_path = os.path.join(path, c)\n",
    "        data = glob(class_path + '/*')\n",
    "        \n",
    "        for d in data:\n",
    "            img = cv2.imread(d, cv2.IMREAD_GRAYSCALE)\n",
    "            img = cv2.resize(img, (16, 16))\n",
    "            img = img.flatten()\n",
    "            \n",
    "            # normalize\n",
    "            img = img.astype(np.float32)\n",
    "            img -= np.mean(img)\n",
    "            img /= np.linalg.norm(img)\n",
    "            \n",
    "            result.append([img, c]) # [image, label]\n",
    "            \n",
    "    return result"
   ]
  },
  {
   "cell_type": "code",
   "execution_count": 4,
   "metadata": {},
   "outputs": [],
   "source": [
    "train_data = np.array(load_data(train_path))\n",
    "test_data = np.array(load_data(test_path))"
   ]
  },
  {
   "cell_type": "code",
   "execution_count": 5,
   "metadata": {},
   "outputs": [],
   "source": [
    "pred_list = []\n",
    "correct_num = 0\n",
    "for i in test_data:\n",
    "    dist = []\n",
    "    for j in train_data:\n",
    "        test_image=np.array(i[0])\n",
    "        train_image=np.array(j[0])\n",
    "        dist.append(np.linalg.norm(test_image - train_image, ord=2))\n",
    "        \n",
    "    idxs = np.argsort(np.array(dist))\n",
    "    preds = train_data[idxs[:20], 1]\n",
    "    label, count = np.unique(preds, return_counts=True)\n",
    "    max_idx = np.argmax(count)\n",
    "    pred = label[max_idx]\n",
    "    \n",
    "    pred_list.append(pred)\n",
    "    if pred == i[1]:\n",
    "        correct_num += 1\n",
    "        "
   ]
  },
  {
   "cell_type": "code",
   "execution_count": 6,
   "metadata": {},
   "outputs": [
    {
     "name": "stdout",
     "output_type": "stream",
     "text": [
      "0.21333333333333335\n"
     ]
    }
   ],
   "source": [
    "accuracy = correct_num/test_data.shape[0]\n",
    "print(accuracy)"
   ]
  },
  {
   "cell_type": "code",
   "execution_count": null,
   "metadata": {},
   "outputs": [],
   "source": []
  }
 ],
 "metadata": {
  "kernelspec": {
   "display_name": "Python 3",
   "language": "python",
   "name": "python3"
  },
  "language_info": {
   "codemirror_mode": {
    "name": "ipython",
    "version": 3
   },
   "file_extension": ".py",
   "mimetype": "text/x-python",
   "name": "python",
   "nbconvert_exporter": "python",
   "pygments_lexer": "ipython3",
   "version": "3.8.3"
  }
 },
 "nbformat": 4,
 "nbformat_minor": 4
}
